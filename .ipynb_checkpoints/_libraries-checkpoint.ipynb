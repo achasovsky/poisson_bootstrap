{
 "cells": [
  {
   "cell_type": "code",
   "execution_count": 1,
   "id": "0f627de5-f514-4ec8-a99e-000c896dc90c",
   "metadata": {
    "tags": []
   },
   "outputs": [],
   "source": [
    "import numpy as np\n",
    "import pandas as pd\n",
    "import statsmodels.api as sm\n",
    "import matplotlib as mpl\n",
    "import matplotlib.pyplot as plt\n",
    "import seaborn as sns\n",
    "import datetime as dt\n",
    "import random\n",
    "import math\n",
    "import time\n",
    "import os\n",
    "import colorsys\n",
    "import collections\n",
    "import numbers\n",
    "import decimal\n",
    "\n",
    "from scipy import stats\n",
    "# from scipy.stats import permutation_test\n",
    "from scipy.stats import chisquare\n",
    "from scipy.stats import kstest"
   ]
  },
  {
   "cell_type": "code",
   "execution_count": 21,
   "id": "cd7f30d1-1818-4f59-ad31-d2b6d4309a0c",
   "metadata": {},
   "outputs": [],
   "source": [
    "def saturate_color(color, saturation=0.75):\n",
    "\n",
    "    if isinstance(color, str):\n",
    "        color_rgb = mpl.colors.to_rgb(color)\n",
    "    else:\n",
    "        color_rgb = color\n",
    "    \n",
    "    color_hls = colorsys.rgb_to_hls(\n",
    "        color_rgb[0], color_rgb[1], color_rgb[2])\n",
    "    color_hls_saturated = (\n",
    "        color_hls[0], color_hls[1], saturation*color_hls[2])\n",
    "    color_rgb_saturated = colorsys.hls_to_rgb(\n",
    "        color_hls_saturated[0], color_hls_saturated[1], color_hls_saturated[2])\n",
    "    return color_rgb_saturated\n",
    "\n",
    "\n",
    "def saturate_palette(palette, saturation=0.75):\n",
    "    palette_saturated = [saturate_color(i, saturation=saturation) for i in palette]\n",
    "    return palette_saturated"
   ]
  },
  {
   "cell_type": "code",
   "execution_count": 24,
   "id": "37b6a0b3-32ea-4a60-9a60-be0460270652",
   "metadata": {},
   "outputs": [],
   "source": [
    "def alpha_color(color, alpha=0.75):\n",
    "    \n",
    "    if isinstance(color, str):\n",
    "        color = mpl.colors.to_rgb(color)\n",
    "        \n",
    "    new_color = tuple (x + (1 - x) * (1 - alpha) for x in color)\n",
    "    return new_color\n",
    "\n",
    "\n",
    "def alpha_palette(palette, alpha=0.75):\n",
    "    palette_alphed = [alpha_color(i, alpha=alpha) for i in palette]\n",
    "    return palette_alphed"
   ]
  },
  {
   "cell_type": "code",
   "execution_count": 4,
   "id": "6f264889-0a69-4a08-b3a1-8e0a83b47d91",
   "metadata": {},
   "outputs": [],
   "source": [
    "theme = 'light'\n",
    "# theme = 'dark'\n",
    "\n",
    "scatter = {\n",
    "    'lw': 0.15\n",
    "}\n",
    "point = {\n",
    "    'linestyle': 'none',\n",
    "    'markersize': 3,\n",
    "    'err_kws': {'lw': 1.2},\n",
    "    'capsize': 0.03\n",
    "}\n",
    "hist = {\n",
    "    'alpha': 1\n",
    "}\n",
    "title_inline = {\n",
    "    'pad': 25\n",
    "}\n",
    "custom_params = {\n",
    "    'figure.figsize': (8, 2.5), # ширина и высота в дюймах\n",
    "    'figure.titlesize': 12,\n",
    "    'figure.titleweight': 'bold',\n",
    "    'figure.labelsize': 9,\n",
    "    'figure.labelweight': 'bold',\n",
    "    'axes.axisbelow': True,\n",
    "    'axes.spines.bottom': False, # ось X\n",
    "    'axes.spines.left': False, # ось Y\n",
    "    'axes.spines.right': False, # не отображать правую рамку \n",
    "    'axes.spines.top': False, # не отображать верхнюю рамку\n",
    "    'axes.linewidth': 0.5, # 1.2\n",
    "    'axes.titlelocation': 'left', # расположение заголовка\n",
    "    'axes.titlepad': 15.0, # расстояние между заголовком и графиком\n",
    "    'axes.titlesize': 10.0, # заголовок\n",
    "    'axes.titleweight': 'bold', # заголовок\n",
    "    'axes.labelpad': 8.0, # расстояние между подписью оси и осью\n",
    "    'axes.labelsize': 9.0, # оси\n",
    "    'axes.labelweight': 'bold', # подписи осей\n",
    "    'xaxis.labellocation': 'left', # положение подписи\n",
    "    'yaxis.labellocation': 'top', # положение подписи\n",
    "    # 'axes.xmargin': 0.025, # отстутпы по оси X\n",
    "    # 'axes.ymargin': 0.085, # отстутпы по оси Y\n",
    "    'axes.grid': True,\n",
    "    'axes.grid.axis': 'both', # какую разметку отображать: 'x' - вертиклаьные линии\n",
    "    'grid.linestyle': ':',\n",
    "    'grid.linewidth': 0.5,\n",
    "    'lines.linewidth': 1.2,\n",
    "    'lines.markersize': 3.5,\n",
    "    'xtick.bottom': False,\n",
    "    'xtick.direction': 'in',\n",
    "    'xtick.major.bottom': True,\n",
    "    'xtick.major.pad': 8,\n",
    "    'xtick.major.size': 1.5,\n",
    "    'xtick.major.top': True,\n",
    "    'xtick.major.width': 0.75,\n",
    "    'xtick.labelsize': 8.0, # деления оси X\n",
    "    'ytick.left': False,\n",
    "    'ytick.direction': 'in',\n",
    "    'ytick.major.left': True,\n",
    "    'ytick.major.pad': 8,\n",
    "    'ytick.major.size': 1.5,\n",
    "    'ytick.major.left': True,\n",
    "    'ytick.major.width': 0.75,\n",
    "    'ytick.labelsize': 8.0, # деления оси Y\n",
    "    'legend.title_fontsize': 8.0,\n",
    "    'legend.fontsize': 8.0,\n",
    "    'legend.framealpha': 0.75,\n",
    "    'font.family': 'Ubuntu',\n",
    "    'scatter.marker': '.'\n",
    "}\n",
    "custom_params_light = {\n",
    "    'figure.facecolor': '#FEFEFE', # FEFEFE\n",
    "    'figure.edgecolor': '#FEFEFE',\n",
    "    'axes.facecolor': '#FEFEFE',\n",
    "    'axes.titlecolor': '#505050',\n",
    "    'axes.labelcolor': '#505050',\n",
    "    'axes.edgecolor': '#AAAAAA', # цвет осей\n",
    "    'grid.color': '#D9D9D9',  \n",
    "    'xtick.color': '#AAAAAA', \n",
    "    'xtick.labelcolor': '#808080',\n",
    "    'ytick.color': '#AAAAAA', \n",
    "    'ytick.labelcolor': '#808080',\n",
    "    'legend.labelcolor': '#4B4B4B',\n",
    "    'legend.edgecolor': '#A6A6A6',\n",
    "    'legend.facecolor': '#FEFEFE',\n",
    "    'text.color': '#4B4B4B',\n",
    "    'patch.force_edgecolor': True,\n",
    "    'patch.edgecolor': '#FEFEFE', # цвет границы стобцов, \n",
    "    'scatter.edgecolors': '#FEFEFE'\n",
    "}\n",
    "custom_params_dark = {\n",
    "    'figure.facecolor': '#383838',\n",
    "    'axes.facecolor': '#383838',\n",
    "    'axes.edgecolor': '#555555',\n",
    "    'axes.titlecolor': '#AAAAAA',\n",
    "    'axes.labelcolor': '#AAAAAA',\n",
    "    'grid.color': '#CCCCCC', # CCCCCC\n",
    "    'grid.linewidth': 0.1,\n",
    "    'xtick.color': '#858585',\n",
    "    'ytick.color': '#858585',\n",
    "    'lines.markersize': 3.5,\n",
    "    'legend.edgecolor': '#555555',\n",
    "    'legend.facecolor': '#383838',\n",
    "    'legend.labelcolor': '#858585',\n",
    "    'legend.framealpha': 0.5,\n",
    "    'text.color': '#AAAAAA',\n",
    "    'patch.edgecolor': '#383838'\n",
    "}\n",
    "if theme == 'light':\n",
    "\n",
    "    palette_list = [ \n",
    "    #    0 grey     1 red      2 lt blue  3 green    4 purple\n",
    "        '#5B5B5B', '#CD4A3F', '#4682B4', '#39AF72',  '#70599C',\n",
    "    #    5 orange   6 khaki    7 dk blue  8 pink     9 yellow\n",
    "        '#F67530', '#9A7D4D', '#124089', '#D07190', '#FFEA00',\n",
    "    #   -10 dark   -9 blue    -8 blue    -7 blue    -6 ligt\n",
    "        '#304E68', '#3D6384', '#4D7DA8', '#6D9BC3', '#A7CBE8',\n",
    "    #   -5 dark    -4 grey    -3 grey    -2 grey    -1 light\n",
    "        '#303030', '#505050', '#707070', '#909090', '#BBBBBB'\n",
    "    ]\n",
    "    palette_bright = sns.color_palette(palette_list)\n",
    "    palette = saturate_palette(palette_bright, 0.65)\n",
    "    # palette = alpha_palette(palette, alpha=0.90)\n",
    "    # add palette to custom parameters dictionary for light theme\n",
    "    custom_params_light.update({'axes.prop_cycle': plt.cycler(color=palette)})\n",
    "\n",
    "    corr_matrix = sns.color_palette(\n",
    "        'blend:#255986,#FFFFFF,#933737', as_cmap=True)\n",
    "    report = sns.color_palette(\n",
    "        'blend:#E6E9EC,#FFFFFF,#9E2A2B', as_cmap=True)\n",
    "    gradient = sns.color_palette(\n",
    "        'blend:#FFFFFF,#3D6384', as_cmap=True)\n",
    "    pairplot = sns.color_palette(['#8DB4D7', '#AF4035'])\n",
    "\n",
    "    # add custom parameters of light theme to parameters dictionary\n",
    "    custom_params.update(custom_params_light)\n",
    "    # update rcParams \n",
    "    plt.rcParams.update(custom_params)\n",
    "\n",
    "if theme == 'dark':\n",
    "    \n",
    "    palette = sns.color_palette([\n",
    "    #    1 blue     2 red      3 green    4 yellow  5 seal\n",
    "        '#7390B6', '#CB6F6F', '#5DA167', '#FFFF88', '#2BAFA2',\n",
    "        '#9A6484', '#5B3256', '#6C4839', '#5C8DA0', '#847637',\n",
    "        '#304E68', '#3D6384', '#4D7DA8', '#6D9BC3', '#A7CBE8',\n",
    "        '#505050', '#606060', '#707070', '#808080', '#AAAAAA',\n",
    "    ])\n",
    "    palette = saturate_palette(palette, saturation=0.85)\n",
    "    # add palette to custom parameters dictionary for dark theme\n",
    "    custom_params_dark.update({'axes.prop_cycle': plt.cycler(color=palette)})\n",
    "    \n",
    "    corr_matrix = sns.color_palette(\n",
    "        'blend:#285780,#909090,#8D3131', as_cmap=True)\n",
    "    report = sns.color_palette(\n",
    "        'blend:#E6E9EC,#CCCCCC,#9E2A2B', as_cmap=True)\n",
    "    gradient = sns.color_palette(\n",
    "        'blend:#FFFFFF,#3D6384', as_cmap=True)\n",
    "    pairplot = sns.color_palette(['#8DB4D7', '#AF4035'])\n",
    "\n",
    "    # add custom parameters of dark theme to parameters dictionary\n",
    "    custom_params.update(custom_params_dark)\n",
    "    # update rcParams \n",
    "    plt.rcParams.update(custom_params)\n",
    "\n",
    "%matplotlib inline\n",
    "\n",
    "seed = 42"
   ]
  },
  {
   "cell_type": "code",
   "execution_count": 5,
   "id": "3acf69be-15b8-46fd-a732-15186bfe02af",
   "metadata": {},
   "outputs": [
    {
     "data": {
      "text/html": [
       "<svg  width=\"275\" height=\"55\"><rect x=\"0\" y=\"0\" width=\"55\" height=\"55\" style=\"fill:#5b5b5b;stroke-width:2;stroke:rgb(255,255,255)\"/><rect x=\"55\" y=\"0\" width=\"55\" height=\"55\" style=\"fill:#b45f58;stroke-width:2;stroke:rgb(255,255,255)\"/><rect x=\"110\" y=\"0\" width=\"55\" height=\"55\" style=\"fill:#3d6b91;stroke-width:2;stroke:rgb(255,255,255)\"/><rect x=\"165\" y=\"0\" width=\"55\" height=\"55\" style=\"fill:#4e9a73;stroke-width:2;stroke:rgb(255,255,255)\"/><rect x=\"220\" y=\"0\" width=\"55\" height=\"55\" style=\"fill:#d2c52d;stroke-width:2;stroke:rgb(255,255,255)\"/></svg>"
      ],
      "text/plain": [
       "[(0.3568627450980392, 0.3568627450980392, 0.3568627450980392),\n",
       " (0.7064705882352942, 0.37254901960784315, 0.3445098039215686),\n",
       " (0.24078431372549014, 0.41921568627450967, 0.5670588235294118),\n",
       " (0.30450980392156857, 0.6052941176470589, 0.4498039215686275),\n",
       " (0.825, 0.771470588235294, 0.17500000000000004)]"
      ]
     },
     "execution_count": 5,
     "metadata": {},
     "output_type": "execute_result"
    }
   ],
   "source": [
    "sns.color_palette(palette[:5])"
   ]
  },
  {
   "cell_type": "code",
   "execution_count": 6,
   "id": "f08e406a-3c81-4a03-b833-a39bb2b67087",
   "metadata": {},
   "outputs": [
    {
     "data": {
      "text/html": [
       "<svg  width=\"275\" height=\"55\"><rect x=\"0\" y=\"0\" width=\"55\" height=\"55\" style=\"fill:#71588b;stroke-width:2;stroke:rgb(255,255,255)\"/><rect x=\"55\" y=\"0\" width=\"55\" height=\"55\" style=\"fill:#8d7a5a;stroke-width:2;stroke:rgb(255,255,255)\"/><rect x=\"110\" y=\"0\" width=\"55\" height=\"55\" style=\"fill:#274574;stroke-width:2;stroke:rgb(255,255,255)\"/><rect x=\"165\" y=\"0\" width=\"55\" height=\"55\" style=\"fill:#bf8296;stroke-width:2;stroke:rgb(255,255,255)\"/><rect x=\"220\" y=\"0\" width=\"55\" height=\"55\" style=\"fill:#c3824d;stroke-width:2;stroke:rgb(255,255,255)\"/></svg>"
      ],
      "text/plain": [
       "[(0.44127450980392147, 0.3444117647058823, 0.5457843137254902),\n",
       " (0.551078431372549, 0.477156862745098, 0.3548039215686274),\n",
       " (0.15225490196078428, 0.2695098039215686, 0.4555882352941176),\n",
       " (0.7504901960784314, 0.5083333333333333, 0.5873529411764703),\n",
       " (0.7652941176470588, 0.5103921568627452, 0.30137254901960786)]"
      ]
     },
     "execution_count": 6,
     "metadata": {},
     "output_type": "execute_result"
    }
   ],
   "source": [
    "sns.color_palette(palette[5:10])"
   ]
  },
  {
   "cell_type": "code",
   "execution_count": 7,
   "id": "fe507898-898c-4c43-aa6f-1f11ac1f4fd1",
   "metadata": {},
   "outputs": [
    {
     "data": {
      "text/html": [
       "<svg  width=\"275\" height=\"55\"><rect x=\"0\" y=\"0\" width=\"55\" height=\"55\" style=\"fill:#3a4d5e;stroke-width:2;stroke:rgb(255,255,255)\"/><rect x=\"55\" y=\"0\" width=\"55\" height=\"55\" style=\"fill:#496278;stroke-width:2;stroke:rgb(255,255,255)\"/><rect x=\"110\" y=\"0\" width=\"55\" height=\"55\" style=\"fill:#5d7c98;stroke-width:2;stroke:rgb(255,255,255)\"/><rect x=\"165\" y=\"0\" width=\"55\" height=\"55\" style=\"fill:#7c9ab4;stroke-width:2;stroke:rgb(255,255,255)\"/><rect x=\"220\" y=\"0\" width=\"55\" height=\"55\" style=\"fill:#b2cadd;stroke-width:2;stroke:rgb(255,255,255)\"/></svg>"
      ],
      "text/plain": [
       "[(0.22666666666666668, 0.3031372549019607, 0.36941176470588233),\n",
       " (0.28794117647058826, 0.3848039215686274, 0.46892156862745105),\n",
       " (0.3644117647058822, 0.48676470588235277, 0.5963725490196079),\n",
       " (0.4864705882352941, 0.6037254901960784, 0.7056862745098039),\n",
       " (0.6995098039215686, 0.7912745098039214, 0.8651960784313726)]"
      ]
     },
     "execution_count": 7,
     "metadata": {},
     "output_type": "execute_result"
    }
   ],
   "source": [
    "sns.color_palette(palette[10:15])"
   ]
  },
  {
   "cell_type": "code",
   "execution_count": 8,
   "id": "9089353e-396f-41d0-8ee5-a9ddac0678ba",
   "metadata": {},
   "outputs": [
    {
     "data": {
      "text/html": [
       "<svg  width=\"275\" height=\"55\"><rect x=\"0\" y=\"0\" width=\"55\" height=\"55\" style=\"fill:#303030;stroke-width:2;stroke:rgb(255,255,255)\"/><rect x=\"55\" y=\"0\" width=\"55\" height=\"55\" style=\"fill:#505050;stroke-width:2;stroke:rgb(255,255,255)\"/><rect x=\"110\" y=\"0\" width=\"55\" height=\"55\" style=\"fill:#707070;stroke-width:2;stroke:rgb(255,255,255)\"/><rect x=\"165\" y=\"0\" width=\"55\" height=\"55\" style=\"fill:#909090;stroke-width:2;stroke:rgb(255,255,255)\"/><rect x=\"220\" y=\"0\" width=\"55\" height=\"55\" style=\"fill:#bbbbbb;stroke-width:2;stroke:rgb(255,255,255)\"/></svg>"
      ],
      "text/plain": [
       "[(0.18823529411764706, 0.18823529411764706, 0.18823529411764706),\n",
       " (0.3137254901960784, 0.3137254901960784, 0.3137254901960784),\n",
       " (0.4392156862745098, 0.4392156862745098, 0.4392156862745098),\n",
       " (0.5647058823529412, 0.5647058823529412, 0.5647058823529412),\n",
       " (0.7333333333333333, 0.7333333333333333, 0.7333333333333333)]"
      ]
     },
     "execution_count": 8,
     "metadata": {},
     "output_type": "execute_result"
    }
   ],
   "source": [
    "sns.color_palette(palette[15:])"
   ]
  },
  {
   "cell_type": "raw",
   "id": "47bb915d-6f62-4822-83ba-d66d87c1e306",
   "metadata": {},
   "source": [
    "plt.rcParams.keys()"
   ]
  },
  {
   "cell_type": "markdown",
   "id": "f3b52f23-ded1-4bce-80e9-6db5c6609e45",
   "metadata": {},
   "source": [
    "### Additional elements"
   ]
  },
  {
   "cell_type": "code",
   "execution_count": 9,
   "id": "28f3d3e2-dcb4-4357-a8ba-e343bd6e267c",
   "metadata": {},
   "outputs": [],
   "source": [
    "weekday_names_dict = {\n",
    "    0: 'Monday',\n",
    "    1: 'Tuesday',\n",
    "    2: 'Wednesday',\n",
    "    3: 'Thursday',\n",
    "    4: 'Friday',\n",
    "    5: 'Saturday',\n",
    "    6: 'Sunday',\n",
    "}"
   ]
  },
  {
   "cell_type": "code",
   "execution_count": 10,
   "id": "ec0f8059-56ec-412c-ae79-105097309ee4",
   "metadata": {},
   "outputs": [],
   "source": [
    "months_list = [\n",
    "    'January', 'February', \n",
    "    'March', 'April', 'May', \n",
    "    'June', 'July', 'August', \n",
    "    'September', 'October', 'November',\n",
    "    'December'\n",
    "]"
   ]
  },
  {
   "cell_type": "markdown",
   "id": "5452b1d8-1c3b-4440-8ce3-833d67221800",
   "metadata": {},
   "source": [
    "### Load function"
   ]
  },
  {
   "cell_type": "code",
   "execution_count": 14,
   "id": "fcba3de5-d2ba-4e38-94b6-d26a42b0e6a8",
   "metadata": {},
   "outputs": [],
   "source": [
    "def load_functions():\n",
    "\n",
    "    import os \n",
    "    \n",
    "    # change directory for the one with libraries, etc.\n",
    "    current_path = os.getcwd()\n",
    "    path = 'functions'\n",
    "    os.chdir(path)\n",
    "\n",
    "    # import libraries, etc.\n",
    "    %run __functions_load.ipynb\n",
    "\n",
    "    # and go back to current directory ('current_path' variable is assigned in _load.ipynb)\n",
    "    os.chdir(current_path)"
   ]
  }
 ],
 "metadata": {
  "kernelspec": {
   "display_name": "Python 3 (ipykernel)",
   "language": "python",
   "name": "python3"
  },
  "language_info": {
   "codemirror_mode": {
    "name": "ipython",
    "version": 3
   },
   "file_extension": ".py",
   "mimetype": "text/x-python",
   "name": "python",
   "nbconvert_exporter": "python",
   "pygments_lexer": "ipython3",
   "version": "3.12.3"
  }
 },
 "nbformat": 4,
 "nbformat_minor": 5
}
