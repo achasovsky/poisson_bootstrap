{
 "cells": [
  {
   "cell_type": "code",
   "execution_count": null,
   "id": "6f4fa554-2525-4609-8fb8-3114ed32381a",
   "metadata": {},
   "outputs": [],
   "source": [
    "# change directory for the one with libraries, etc.\n",
    "current_path = os.getcwd()"
   ]
  },
  {
   "cell_type": "code",
   "execution_count": null,
   "id": "bd2deda4-2bcd-4195-a1e9-031df47af48e",
   "metadata": {},
   "outputs": [],
   "source": [
    "# change path to 'functions'\n",
    "path = 'functions'\n",
    "os.chdir(path)"
   ]
  },
  {
   "cell_type": "code",
   "execution_count": null,
   "id": "09a05df1-7e2e-47d5-91fb-6f80444ec89b",
   "metadata": {},
   "outputs": [],
   "source": [
    "# import functions\n",
    "%run __functions_data.ipynb\n",
    "%run __functions_date.ipynb\n",
    "%run __functions_main.ipynb\n",
    "%run __functions_plots.ipynb"
   ]
  },
  {
   "cell_type": "code",
   "execution_count": null,
   "id": "34f49ad7-48ce-4268-a2ef-c9c31d50c7d0",
   "metadata": {},
   "outputs": [],
   "source": [
    "# go back to current directory ('current_path' variable is assigned in _load.ipynb)\n",
    "os.chdir(current_path)"
   ]
  }
 ],
 "metadata": {
  "kernelspec": {
   "display_name": "Python 3 (ipykernel)",
   "language": "python",
   "name": "python3"
  },
  "language_info": {
   "codemirror_mode": {
    "name": "ipython",
    "version": 3
   },
   "file_extension": ".py",
   "mimetype": "text/x-python",
   "name": "python",
   "nbconvert_exporter": "python",
   "pygments_lexer": "ipython3",
   "version": "3.12.3"
  }
 },
 "nbformat": 4,
 "nbformat_minor": 5
}
